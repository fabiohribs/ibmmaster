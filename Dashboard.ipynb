{
    "cells": [
        {
            "cell_type": "markdown",
            "metadata": {},
            "source": "Import required libraries"
        },
        {
            "cell_type": "code",
            "execution_count": null,
            "metadata": {},
            "outputs": [],
            "source": "import pandas as pd\nimport dash\nimport dash_html_components as html\nimport dash_core_components as dcc\nfrom dash.dependencies import Input, Output\nimport plotly.express as px"
        },
        {
            "cell_type": "markdown",
            "metadata": {},
            "source": "Read the airline data into pandas dataframe"
        },
        {
            "cell_type": "code",
            "execution_count": null,
            "metadata": {},
            "outputs": [],
            "source": "spacex_df = pd.read_csv(\"spacex_launch_dash.csv\")\nmax_payload = spacex_df['Payload Mass (kg)'].max()\nmin_payload = spacex_df['Payload Mass (kg)'].min()"
        },
        {
            "cell_type": "markdown",
            "metadata": {},
            "source": "Create a dash application"
        },
        {
            "cell_type": "code",
            "execution_count": null,
            "metadata": {},
            "outputs": [],
            "source": "app = dash.Dash(__name__)"
        },
        {
            "cell_type": "markdown",
            "metadata": {},
            "source": "Create an app layout"
        },
        {
            "cell_type": "code",
            "execution_count": null,
            "metadata": {},
            "outputs": [],
            "source": "sites=spacex_df['Launch Site'].unique().tolist()\nsites.insert(0,'All Sites')"
        },
        {
            "cell_type": "code",
            "execution_count": null,
            "metadata": {},
            "outputs": [],
            "source": "app.layout = html.Div(children=[html.H1('SpaceX Launch Records Dashboard',\n                                        style={'textAlign': 'center', 'color': '#503D36',\n                                               'font-size': 40}),\n                                # TASK 1: Add a dropdown list to enable Launch Site selection\n                                # The default select value is for ALL sites\n                                dcc.Dropdown(\n                                   id='site-dropdown',\n                                   options=[\n                                    {'label': i, 'value': i} for i in sites],\n                                    placeholder=\"Select a Launch Site here\",\n                                    value='All Sites',\n                                    searchable=True),\n                            \n                                html.Br(),\n                                # TASK 2: Add a pie chart to show the total successful launches count for all sites\n                                # If a specific launch site was selected, show the Success vs. Failed counts for the site\n                                html.Div(dcc.Graph(id='success-pie-chart')),\n                                html.Br(),\n                                html.P(\"Payload range (Kg):\"),\n                                # TASK 3: Add a slider to select payload range\n                                dcc.RangeSlider(id='payload-slider',\n                                min=0,\n                                max=10000,\n                                step=1000,\n                                value=[min_payload,max_payload],\n                                marks={\n                                0: '0 kg',\n                                2500: '2500',\n                                5000: '5000',\n                                7500: '7500',\n                                10000: '10000'\n                                }),\n                                # TASK 4: Add a scatter chart to show the correlation between payload and launch success\n                                html.Div(dcc.Graph(id='success-payload-scatter-chart')),\n                                ])"
        },
        {
            "cell_type": "markdown",
            "metadata": {},
            "source": "TASK 2:<br>\nAdd a callback function for `site-dropdown` as input, `success-pie-chart` as output"
        },
        {
            "cell_type": "code",
            "execution_count": null,
            "metadata": {},
            "outputs": [],
            "source": "@app.callback(\nOutput(component_id='success-pie-chart', component_property='figure'),\nInput(component_id='site-dropdown', component_property='value')\n)\ndef get_pie(value):\n    filtered_df = spacex_df\n    if value == 'All Sites':\n        fig = px.pie(filtered_df, values='class', names='Launch Site', title='Total Success Launches By Site')\n        return fig\n    else:\n        filtered_df = spacex_df[spacex_df['Launch Site'] == value].groupby(['Launch Site', 'class']). \\\n        size().reset_index(name='class count')\n        title = f\"Total Success Launches for site {value}\"\n        fig = px.pie(filtered_df,values='class count', names='class', title=title)\n        return fig"
        },
        {
            "cell_type": "markdown",
            "metadata": {},
            "source": "Add a callback function for `site-dropdown` and `payload-slider` as inputs, `success-payload-scatter-chart` as output"
        },
        {
            "cell_type": "code",
            "execution_count": null,
            "metadata": {},
            "outputs": [],
            "source": "@app.callback(\nOutput(component_id='success-payload-scatter-chart', component_property='figure'),\n[Input(component_id='site-dropdown', component_property='value'),\nInput(component_id='payload-slider', component_property='value')]\n)"
        },
        {
            "cell_type": "code",
            "execution_count": null,
            "metadata": {},
            "outputs": [],
            "source": "def get_scatter(value1,value2):\n    filtered_df2_1=spacex_df[(spacex_df['Payload Mass (kg)'] > value2[0]) & (spacex_df['Payload Mass (kg)'] < value2[1])]\n    if value1=='All Sites':\n        fig= px.scatter(filtered_df2_1,x=\"Payload Mass (kg)\",y=\"class\",color=\"Booster Version Category\",\\\n        title=\"Correlation between Payload and Success for All sites\")\n        return fig\n    else :\n        filtered_df2_2=filtered_df2_1[filtered_df2_1['Launch Site']==value1]\n        fig= px.scatter(filtered_df2_2,x=\"Payload Mass (kg)\",y=\"class\",color=\"Booster Version Category\",\\\n        title=f\"Correlation between Payload and Success for site {value1}\")\n        return fig\n# Run the app\nif __name__ == '__main__':\n    app.run_server()"
        }
    ],
    "metadata": {
        "kernelspec": {
            "display_name": "Python 3.8",
            "language": "python",
            "name": "python3"
        },
        "language_info": {
            "codemirror_mode": {
                "name": "ipython",
                "version": 3
            },
            "file_extension": ".py",
            "mimetype": "text/x-python",
            "name": "python",
            "nbconvert_exporter": "python",
            "pygments_lexer": "ipython3",
            "version": "3.8.12"
        }
    },
    "nbformat": 4,
    "nbformat_minor": 2
}